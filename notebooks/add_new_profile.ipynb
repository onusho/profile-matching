{
 "cells": [
  {
   "cell_type": "code",
   "execution_count": null,
   "metadata": {},
   "outputs": [],
   "source": [
    "import pandas as pd\n",
    "import numpy as np\n",
    "import matplotlib.pyplot as plt\n",
    "import seaborn as sns\n",
    "import _pickle as pickle\n",
    "from sklearn.feature_extraction.text import CountVectorizer\n",
    "from sklearn.cluster import AgglomerativeClustering\n",
    "from sklearn.metrics import silhouette_score, davies_bouldin_score\n",
    "from sklearn.preprocessing import MinMaxScaler\n",
    "from sklearn.model_selection import train_test_split\n",
    "from sklearn.metrics import confusion_matrix, classification_report\n",
    "from sklearn.pipeline import Pipeline\n"
   ]
  },
  {
   "cell_type": "code",
   "execution_count": null,
   "metadata": {},
   "outputs": [
    {
     "data": {
      "text/html": [
       "<div>\n",
       "<style scoped>\n",
       "    .dataframe tbody tr th:only-of-type {\n",
       "        vertical-align: middle;\n",
       "    }\n",
       "\n",
       "    .dataframe tbody tr th {\n",
       "        vertical-align: top;\n",
       "    }\n",
       "\n",
       "    .dataframe thead th {\n",
       "        text-align: right;\n",
       "    }\n",
       "</style>\n",
       "<table border=\"1\" class=\"dataframe\">\n",
       "  <thead>\n",
       "    <tr style=\"text-align: right;\">\n",
       "      <th></th>\n",
       "      <th>Bios</th>\n",
       "      <th>Movies</th>\n",
       "      <th>Religion</th>\n",
       "      <th>Music</th>\n",
       "      <th>Politics</th>\n",
       "      <th>Social Media</th>\n",
       "      <th>Sports</th>\n",
       "      <th>Age</th>\n",
       "      <th>Cluster #</th>\n",
       "    </tr>\n",
       "  </thead>\n",
       "  <tbody>\n",
       "    <tr>\n",
       "      <th>0</th>\n",
       "      <td>Typical twitter fanatic. Infuriatingly humble ...</td>\n",
       "      <td>Drama Adventure Action</td>\n",
       "      <td>Other</td>\n",
       "      <td>Pop EDM</td>\n",
       "      <td>Progressive</td>\n",
       "      <td>Pinterest Facebook Instagram</td>\n",
       "      <td>Football Other Hockey</td>\n",
       "      <td>23</td>\n",
       "      <td>1</td>\n",
       "    </tr>\n",
       "    <tr>\n",
       "      <th>1</th>\n",
       "      <td>Web junkie. Analyst. Infuriatingly humble intr...</td>\n",
       "      <td>Adventure Thriller</td>\n",
       "      <td>Hindu</td>\n",
       "      <td>Pop Rock</td>\n",
       "      <td>Progressive</td>\n",
       "      <td>Facebook</td>\n",
       "      <td>Baseball</td>\n",
       "      <td>18</td>\n",
       "      <td>1</td>\n",
       "    </tr>\n",
       "    <tr>\n",
       "      <th>2</th>\n",
       "      <td>Avid web maven. Food practitioner. Gamer. Twit...</td>\n",
       "      <td>Drama Adventure Action</td>\n",
       "      <td>Muslim</td>\n",
       "      <td>Country Rock</td>\n",
       "      <td>Conservative</td>\n",
       "      <td>Twitter Youtube Facebook</td>\n",
       "      <td>Basketball Baseball Hockey</td>\n",
       "      <td>29</td>\n",
       "      <td>1</td>\n",
       "    </tr>\n",
       "    <tr>\n",
       "      <th>3</th>\n",
       "      <td>Twitteraholic. Extreme web fanatic. Food buff....</td>\n",
       "      <td>Adventure Action</td>\n",
       "      <td>Catholic</td>\n",
       "      <td>Country HipHop</td>\n",
       "      <td>Moderate</td>\n",
       "      <td>Twitter Youtube</td>\n",
       "      <td>Football Baseball Basketball</td>\n",
       "      <td>25</td>\n",
       "      <td>1</td>\n",
       "    </tr>\n",
       "    <tr>\n",
       "      <th>4</th>\n",
       "      <td>Bacon enthusiast. Falls down a lot. Freelance ...</td>\n",
       "      <td>Adventure Action Comedy</td>\n",
       "      <td>Hindu</td>\n",
       "      <td>Pop Rock</td>\n",
       "      <td>Conservative</td>\n",
       "      <td>Youtube Facebook</td>\n",
       "      <td>Football Baseball Hockey</td>\n",
       "      <td>19</td>\n",
       "      <td>0</td>\n",
       "    </tr>\n",
       "  </tbody>\n",
       "</table>\n",
       "</div>"
      ],
      "text/plain": [
       "                                                Bios                   Movies  \\\n",
       "0  Typical twitter fanatic. Infuriatingly humble ...   Drama Adventure Action   \n",
       "1  Web junkie. Analyst. Infuriatingly humble intr...       Adventure Thriller   \n",
       "2  Avid web maven. Food practitioner. Gamer. Twit...   Drama Adventure Action   \n",
       "3  Twitteraholic. Extreme web fanatic. Food buff....         Adventure Action   \n",
       "4  Bacon enthusiast. Falls down a lot. Freelance ...  Adventure Action Comedy   \n",
       "\n",
       "   Religion           Music      Politics                  Social Media  \\\n",
       "0     Other         Pop EDM   Progressive  Pinterest Facebook Instagram   \n",
       "1     Hindu        Pop Rock   Progressive                      Facebook   \n",
       "2    Muslim    Country Rock  Conservative      Twitter Youtube Facebook   \n",
       "3  Catholic  Country HipHop      Moderate               Twitter Youtube   \n",
       "4     Hindu        Pop Rock  Conservative              Youtube Facebook   \n",
       "\n",
       "                         Sports  Age  Cluster #  \n",
       "0         Football Other Hockey   23          1  \n",
       "1                      Baseball   18          1  \n",
       "2    Basketball Baseball Hockey   29          1  \n",
       "3  Football Baseball Basketball   25          1  \n",
       "4      Football Baseball Hockey   19          0  "
      ]
     },
     "execution_count": 5,
     "metadata": {},
     "output_type": "execute_result"
    }
   ],
   "source": [
    "with open('data\\\\refined_cluster.pkl', 'rb') as fp:\n",
    "    df = pickle.load(fp)\n",
    "df.head()"
   ]
  },
  {
   "cell_type": "markdown",
   "metadata": {},
   "source": [
    "# New Profile"
   ]
  },
  {
   "cell_type": "code",
   "execution_count": null,
   "metadata": {},
   "outputs": [],
   "source": [
    "new_profile = pd.DataFrame(columns=df.columns)"
   ]
  },
  {
   "cell_type": "code",
   "execution_count": null,
   "metadata": {},
   "outputs": [
    {
     "name": "stdout",
     "output_type": "stream",
     "text": [
      "{'Movies': ['Adventure', 'Action', 'Drama', 'Comedy', 'Thriller', 'Horror', 'RomCom', 'Musical', 'Documentary'], 'Religion': ['Catholic', 'Christian', 'Jewish', 'Muslim', 'Hindu', 'Buddhist', 'Spiritual', 'Other', 'Agnostic', 'Atheist'], 'Music': ['Rock', 'HipHop', 'Pop', 'Country', 'Latin', 'EDM', 'Gospel', 'Jazz', 'Classical'], 'Politics': ['Liberal', 'Progressive', 'Centrist', 'Moderate', 'Conservative'], 'Social Media': ['Facebook', 'Youtube', 'Twitter', 'Reddit', 'Instagram', 'Pinterest', 'LinkedIn', 'SnapChat', 'TikTok'], 'Sports': ['Football', 'Baseball', 'Basketball', 'Hockey', 'Soccer', 'Other'], 'Age': array([26, 22, 21, ..., 20, 20, 24], shape=(6600,))}\n"
     ]
    }
   ],
   "source": [
    "# Load from a file\n",
    "with open('data\\\\categories.pkl', 'rb') as f:\n",
    "    combined = pickle.load(f)\n",
    "\n",
    "print(combined)"
   ]
  },
  {
   "cell_type": "code",
   "execution_count": null,
   "metadata": {},
   "outputs": [],
   "source": [
    "combined[]"
   ]
  },
  {
   "cell_type": "code",
   "execution_count": 11,
   "metadata": {},
   "outputs": [
    {
     "ename": "NameError",
     "evalue": "name 'p' is not defined",
     "output_type": "error",
     "traceback": [
      "\u001b[1;31m---------------------------------------------------------------------------\u001b[0m",
      "\u001b[1;31mNameError\u001b[0m                                 Traceback (most recent call last)",
      "Cell \u001b[1;32mIn[11], line 6\u001b[0m\n\u001b[0;32m      4\u001b[0m \u001b[38;5;28;01mfor\u001b[39;00m name, category \u001b[38;5;129;01min\u001b[39;00m combined\u001b[38;5;241m.\u001b[39mitems():\n\u001b[0;32m      5\u001b[0m     \u001b[38;5;28;01mif\u001b[39;00m name \u001b[38;5;129;01min\u001b[39;00m [\u001b[38;5;124m'\u001b[39m\u001b[38;5;124mReligion\u001b[39m\u001b[38;5;124m'\u001b[39m, \u001b[38;5;124m'\u001b[39m\u001b[38;5;124mPolitics\u001b[39m\u001b[38;5;124m'\u001b[39m]:\n\u001b[1;32m----> 6\u001b[0m         new_profile[name] \u001b[38;5;241m=\u001b[39m np\u001b[38;5;241m.\u001b[39mrandom\u001b[38;5;241m.\u001b[39mchoice(category, new_profile\u001b[38;5;241m.\u001b[39mshape[\u001b[38;5;241m0\u001b[39m], p\u001b[38;5;241m=\u001b[39m\u001b[43mp\u001b[49m[name])  \n\u001b[0;32m      7\u001b[0m     \u001b[38;5;28;01melif\u001b[39;00m name \u001b[38;5;241m==\u001b[39m \u001b[38;5;124m'\u001b[39m\u001b[38;5;124mAge\u001b[39m\u001b[38;5;124m'\u001b[39m:\n\u001b[0;32m      8\u001b[0m         new_profile[name] \u001b[38;5;241m=\u001b[39m category\n",
      "\u001b[1;31mNameError\u001b[0m: name 'p' is not defined"
     ]
    }
   ],
   "source": [
    "# religion, politics have only one value\n",
    "# age is decided from half normal distribution\n",
    "# rest can have max 3 choices\n",
    "for name, category in combined.items():\n",
    "    if name in ['Religion', 'Politics']:\n",
    "        new_profile[name] = np.random.choice(category, new_profile.shape[0], p=p[name])  \n",
    "    elif name == 'Age':\n",
    "        new_profile[name] = category\n",
    "    else:\n",
    "        try:\n",
    "            # randomly choose strings from category, with size df rows, 1, 3, and probability p\n",
    "            new_profile[name] = list(np.random.choice(category, size=(new_profile.shape[0],1,3), p=p[name]))\n",
    "        except:\n",
    "            new_profile[name] = list(np.random.choice(category, size=(new_profile.shape[0],1,3)))\n",
    "        \n",
    "        new_profile[name] = new_profile[name].apply(lambda x: list(set(x[0].tolist())))"
   ]
  },
  {
   "cell_type": "code",
   "execution_count": null,
   "metadata": {},
   "outputs": [],
   "source": []
  }
 ],
 "metadata": {
  "kernelspec": {
   "display_name": "env",
   "language": "python",
   "name": "python3"
  },
  "language_info": {
   "codemirror_mode": {
    "name": "ipython",
    "version": 3
   },
   "file_extension": ".py",
   "mimetype": "text/x-python",
   "name": "python",
   "nbconvert_exporter": "python",
   "pygments_lexer": "ipython3",
   "version": "3.13.1"
  }
 },
 "nbformat": 4,
 "nbformat_minor": 2
}
